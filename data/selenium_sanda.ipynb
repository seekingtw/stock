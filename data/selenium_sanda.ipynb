{
 "cells": [
  {
   "cell_type": "code",
   "execution_count": 2,
   "metadata": {
    "collapsed": false,
    "scrolled": true
   },
   "outputs": [
    {
     "name": "stdout",
     "output_type": "stream",
     "text": [
      "Google\n",
      "cheese! - Google 搜尋\n"
     ]
    }
   ],
   "source": [
    "from selenium import webdriver\n",
    "from selenium.common.exceptions import TimeoutException\n",
    " \n",
    "# available since 2.4.0\n",
    "from selenium.webdriver.support.ui import WebDriverWait\n",
    " \n",
    "# available since 2.26.0\n",
    "from selenium.webdriver.support import expected_conditions as EC\n",
    " \n",
    "# 建立 driver\n",
    "# 需下載 Browser Drivers http://www.seleniumhq.org/download/ \n",
    "# 若 geckodriver 有在 PATH 中， firefox 可不帶路徑參數\n",
    "driver = webdriver.Firefox()\n",
    " \n",
    "# 去 google\n",
    "driver.get(\"http://www.google.com\")\n",
    " \n",
    "# 顯示標題\n",
    "print(driver.title)\n",
    " \n",
    "# 找到搜尋框\n",
    "inputElement = driver.find_element_by_name(\"q\")\n",
    " \n",
    "# 搜尋框輸入字\n",
    "inputElement.send_keys(\"cheese!\")\n",
    " \n",
    "# 提交\n",
    "inputElement.submit()\n",
    " \n",
    "try:\n",
    "    # 直到標題有 cheese\n",
    "    WebDriverWait(driver, 10).until(EC.title_contains(\"cheese!\"))\n",
    " \n",
    "    # 顯示標題，可看到 cheese\n",
    "    print(driver.title)\n",
    "except TimeoutException:\n",
    "    print('time out')\n",
    "finally:\n",
    "    driver.quit()"
   ]
  },
  {
   "cell_type": "code",
   "execution_count": 21,
   "metadata": {
    "collapsed": false
   },
   "outputs": [
    {
     "name": "stdout",
     "output_type": "stream",
     "text": [
      "<selenium.webdriver.firefox.webelement.FirefoxWebElement (session=\"fd581fbe-5389-4fb2-9bf9-9aeaf56d2040\", element=\"ea025734-d2f7-4e8c-8cce-4fee2f1da4f8\")>\n"
     ]
    }
   ],
   "source": [
    "def go_get_fa_ren(twstock_id):\n",
    "    global driver\n",
    "    #if !driver:\n",
    "    driver = webdriver.Firefox()\n",
    "    driver.implicitly_wait(10)\n",
    "    link =\"https://www.wantgoo.com/stock/astock/three?stockno=\"+str(twstock_id)\n",
    "    driver.get(link)\n",
    "    #xpath start = //*[@id=\"dtStart\"]  \n",
    "    #xpath stop \n",
    "    driver.find_element_by_xpath('//*[@id=\"dtStart\"]').send_keys(\"2018/01/01\")\n",
    "    driver.find_element_by_xpath('//*[@id=\"dtEnd\"]').send_keys(\"2018/02/01\")\n",
    "    driver.find_element_by_xpath('//*[@id=\"btnFind\"]').click()\n",
    "    thead=driver.find_element_by_tag_name(\"thead\")\n",
    "    print thead\n",
    "\n",
    "    \n",
    "go_get_fa_ren(2330)\n",
    "    \n",
    "\n",
    "    \n"
   ]
  },
  {
   "cell_type": "code",
   "execution_count": 22,
   "metadata": {
    "collapsed": false
   },
   "outputs": [
    {
     "name": "stdout",
     "output_type": "stream",
     "text": [
      "日期 買賣超 估計持股 持股比重\n",
      "外資\n",
      "(不含自營商) 外資\n",
      "(自營商) 投信 自營商\n",
      "(自行買賣) 自營商\n",
      "(避險) 單日合計 外資 投信 自營商 單日合計 外資% 三大法人%\n"
     ]
    }
   ],
   "source": [
    "    thead=driver.find_element_by_tag_name(\"thead\")\n",
    "    print thead.text\n"
   ]
  },
  {
   "cell_type": "code",
   "execution_count": 31,
   "metadata": {
    "collapsed": false
   },
   "outputs": [
    {
     "name": "stdout",
     "output_type": "stream",
     "text": [
      "日期 外資(不含自營商) 外資(自營商) 投信 自營商(自行買賣) 營商(避險) 單日合計 外資持股 投信持股 自營商持股 單日合計持股 外資% 三大法人%\n"
     ]
    }
   ],
   "source": [
    "title = [\"日期\", \"外資(不含自營商)\", \"外資(自營商)\", \"投信\",\"自營商(自行買賣)\",\"營商(避險)\",\"單日合計\", \"外資持股\" ,\"投信持股\" ,\"自營商持股\", \"單日合計持股\", \"外資%\" ,\"三大法人%\"]\n",
    "print \" \".join(title)"
   ]
  },
  {
   "cell_type": "code",
   "execution_count": 23,
   "metadata": {
    "collapsed": true
   },
   "outputs": [
    {
     "name": "stdout",
     "output_type": "stream",
     "text": [
      "2018/02/01 -3,882 0 110 184 -837 -4,425 20,585,140 133,930 168,441 20,887,510 79.38 80.55\n",
      "2018/01/31 1,530 0 30 1,609 354 3,523 20,588,950 138,676 169,094 20,896,720 79.40 80.59\n",
      "2018/01/30 -1,507 0 -141 254 266 -1,128 20,587,420 138,646 167,131 20,893,200 79.39 80.57\n",
      "2018/01/29 4,094 0 52 132 590 4,868 20,590,400 138,787 166,611 20,895,800 79.40 80.58\n",
      "2018/01/26 2,414 0 -1,623 447 175 1,413 20,586,280 138,735 165,889 20,890,910 79.39 80.56\n",
      "2018/01/25 5,052 0 39 33 41 5,165 20,583,870 140,358 165,267 20,889,490 79.38 80.56\n",
      "2018/01/24 -227 0 -296 606 319 402 20,575,810 140,319 165,193 20,881,320 79.35 80.53\n",
      "2018/01/23 13,445 0 -102 -320 -484 12,539 20,576,040 140,616 164,268 20,880,920 79.35 80.53\n",
      "2018/01/22 2,907 0 -738 207 -764 1,612 20,564,570 140,640 165,072 20,870,280 79.30 80.48\n",
      "2018/01/19 22,128 0 -787 218 -86 21,473 20,561,530 141,378 165,629 20,868,540 79.29 80.47\n",
      "2018/01/18 26,344 0 -1,180 387 401 25,952 20,537,780 142,165 165,497 20,845,440 79.20 80.39\n",
      "2018/01/17 15,831 0 63 717 1,018 17,629 20,510,640 143,345 164,709 20,818,700 79.09 80.28\n",
      "2018/01/16 4,904 0 -127 39 -242 4,574 20,493,270 143,282 162,974 20,799,530 79.03 80.21\n",
      "2018/01/15 527 0 -205 220 -165 377 20,488,370 143,409 163,177 20,794,950 79.01 80.19\n",
      "2018/01/12 -4,054 0 9 238 332 -3,475 20,484,840 143,614 163,122 20,791,580 78.99 80.17\n",
      "2018/01/11 -7,078 0 -168 47 206 -6,993 20,488,850 143,605 162,552 20,795,010 79.01 80.19\n",
      "2018/01/10 -1,139 0 450 -350 234 -805 20,498,030 143,773 162,299 20,804,100 79.05 80.23\n",
      "2018/01/09 1,562 0 430 -35 -16 1,941 20,499,170 143,323 162,415 20,804,900 79.05 80.23\n",
      "2018/01/08 10,272 0 148 46 -1 10,465 20,500,200 142,893 162,466 20,805,550 79.05 80.23\n",
      "2018/01/05 9,298 0 23 90 -102 9,309 20,490,060 142,745 162,421 20,795,220 79.01 80.19\n",
      "2018/01/04 10,930 0 47 55 -85 10,947 20,480,740 142,722 162,433 20,785,900 78.98 80.16\n",
      "2018/01/03 8,838 0 915 446 21 10,220 20,472,000 142,675 162,463 20,777,140 78.94 80.12\n",
      "2018/01/02 9,607 0 514 274 -221 10,174 20,462,950 141,760 161,996 20,766,710 78.91 80.08\n",
      "合計買賣超 131,796 0 -2,537 5,544 954 135,757\n",
      "※外資自營商買賣股數已計入自營商買賣股數，故不納入三大法人買賣股數之合計數計算。\n"
     ]
    }
   ],
   "source": [
    "    tbody=driver.find_element_by_tag_name(\"tbody\")\n",
    "    print tbody.text"
   ]
  },
  {
   "cell_type": "code",
   "execution_count": 27,
   "metadata": {
    "collapsed": false,
    "scrolled": true
   },
   "outputs": [
    {
     "name": "stdout",
     "output_type": "stream",
     "text": [
      "[u'2018/02/01', u'-3,882', u'0', u'110', u'184', u'-837', u'-4,425', u'20,585,140', u'133,930', u'168,441', u'20,887,510', u'79.38', u'80.55']\n",
      "[u'2018/01/31', u'1,530', u'0', u'30', u'1,609', u'354', u'3,523', u'20,588,950', u'138,676', u'169,094', u'20,896,720', u'79.40', u'80.59']\n",
      "[u'2018/01/30', u'-1,507', u'0', u'-141', u'254', u'266', u'-1,128', u'20,587,420', u'138,646', u'167,131', u'20,893,200', u'79.39', u'80.57']\n",
      "[u'2018/01/29', u'4,094', u'0', u'52', u'132', u'590', u'4,868', u'20,590,400', u'138,787', u'166,611', u'20,895,800', u'79.40', u'80.58']\n",
      "[u'2018/01/26', u'2,414', u'0', u'-1,623', u'447', u'175', u'1,413', u'20,586,280', u'138,735', u'165,889', u'20,890,910', u'79.39', u'80.56']\n",
      "[u'2018/01/25', u'5,052', u'0', u'39', u'33', u'41', u'5,165', u'20,583,870', u'140,358', u'165,267', u'20,889,490', u'79.38', u'80.56']\n",
      "[u'2018/01/24', u'-227', u'0', u'-296', u'606', u'319', u'402', u'20,575,810', u'140,319', u'165,193', u'20,881,320', u'79.35', u'80.53']\n",
      "[u'2018/01/23', u'13,445', u'0', u'-102', u'-320', u'-484', u'12,539', u'20,576,040', u'140,616', u'164,268', u'20,880,920', u'79.35', u'80.53']\n",
      "[u'2018/01/22', u'2,907', u'0', u'-738', u'207', u'-764', u'1,612', u'20,564,570', u'140,640', u'165,072', u'20,870,280', u'79.30', u'80.48']\n",
      "[u'2018/01/19', u'22,128', u'0', u'-787', u'218', u'-86', u'21,473', u'20,561,530', u'141,378', u'165,629', u'20,868,540', u'79.29', u'80.47']\n",
      "[u'2018/01/18', u'26,344', u'0', u'-1,180', u'387', u'401', u'25,952', u'20,537,780', u'142,165', u'165,497', u'20,845,440', u'79.20', u'80.39']\n",
      "[u'2018/01/17', u'15,831', u'0', u'63', u'717', u'1,018', u'17,629', u'20,510,640', u'143,345', u'164,709', u'20,818,700', u'79.09', u'80.28']\n",
      "[u'2018/01/16', u'4,904', u'0', u'-127', u'39', u'-242', u'4,574', u'20,493,270', u'143,282', u'162,974', u'20,799,530', u'79.03', u'80.21']\n",
      "[u'2018/01/15', u'527', u'0', u'-205', u'220', u'-165', u'377', u'20,488,370', u'143,409', u'163,177', u'20,794,950', u'79.01', u'80.19']\n",
      "[u'2018/01/12', u'-4,054', u'0', u'9', u'238', u'332', u'-3,475', u'20,484,840', u'143,614', u'163,122', u'20,791,580', u'78.99', u'80.17']\n",
      "[u'2018/01/11', u'-7,078', u'0', u'-168', u'47', u'206', u'-6,993', u'20,488,850', u'143,605', u'162,552', u'20,795,010', u'79.01', u'80.19']\n",
      "[u'2018/01/10', u'-1,139', u'0', u'450', u'-350', u'234', u'-805', u'20,498,030', u'143,773', u'162,299', u'20,804,100', u'79.05', u'80.23']\n",
      "[u'2018/01/09', u'1,562', u'0', u'430', u'-35', u'-16', u'1,941', u'20,499,170', u'143,323', u'162,415', u'20,804,900', u'79.05', u'80.23']\n",
      "[u'2018/01/08', u'10,272', u'0', u'148', u'46', u'-1', u'10,465', u'20,500,200', u'142,893', u'162,466', u'20,805,550', u'79.05', u'80.23']\n",
      "[u'2018/01/05', u'9,298', u'0', u'23', u'90', u'-102', u'9,309', u'20,490,060', u'142,745', u'162,421', u'20,795,220', u'79.01', u'80.19']\n",
      "[u'2018/01/04', u'10,930', u'0', u'47', u'55', u'-85', u'10,947', u'20,480,740', u'142,722', u'162,433', u'20,785,900', u'78.98', u'80.16']\n",
      "[u'2018/01/03', u'8,838', u'0', u'915', u'446', u'21', u'10,220', u'20,472,000', u'142,675', u'162,463', u'20,777,140', u'78.94', u'80.12']\n",
      "[u'2018/01/02', u'9,607', u'0', u'514', u'274', u'-221', u'10,174', u'20,462,950', u'141,760', u'161,996', u'20,766,710', u'78.91', u'80.08']\n",
      "[u'\\u5408\\u8a08\\u8cb7\\u8ce3\\u8d85', u'131,796', u'0', u'-2,537', u'5,544', u'954', u'135,757', u'', u'', u'', u'', u'', u'']\n",
      "[u'\\u203b\\u5916\\u8cc7\\u81ea\\u71df\\u5546\\u8cb7\\u8ce3\\u80a1\\u6578\\u5df2\\u8a08\\u5165\\u81ea\\u71df\\u5546\\u8cb7\\u8ce3\\u80a1\\u6578\\uff0c\\u6545\\u4e0d\\u7d0d\\u5165\\u4e09\\u5927\\u6cd5\\u4eba\\u8cb7\\u8ce3\\u80a1\\u6578\\u4e4b\\u5408\\u8a08\\u6578\\u8a08\\u7b97\\u3002']\n"
     ]
    }
   ],
   "source": [
    "trs = tbody.find_elements_by_tag_name(\"tr\")\n",
    "for e in trs:\n",
    "    tds = e.find_elements_by_tag_name(\"td\")\n",
    "    tds_text = [td.text for td in tds]\n",
    "    #print tds_text"
   ]
  },
  {
   "cell_type": "code",
   "execution_count": 32,
   "metadata": {
    "collapsed": true
   },
   "outputs": [],
   "source": [
    "import pandas as pd\n",
    "pd.read_html('https://www.wantgoo.com/stock/astock/three?StockNo=2330&dtStart=2018/01/01&dtEnd=2018/02/01')"
   ]
  },
  {
   "cell_type": "code",
   "execution_count": 34,
   "metadata": {
    "collapsed": false
   },
   "outputs": [
    {
     "ename": "ImportError",
     "evalue": "html5lib not found, please install it",
     "output_type": "error",
     "traceback": [
      "\u001b[0;31m---------------------------------------------------------------------------\u001b[0m",
      "\u001b[0;31mImportError\u001b[0m                               Traceback (most recent call last)",
      "\u001b[0;32m<ipython-input-34-42007162be07>\u001b[0m in \u001b[0;36m<module>\u001b[0;34m()\u001b[0m\n\u001b[0;32m----> 1\u001b[0;31m \u001b[0mpd\u001b[0m\u001b[0;34m.\u001b[0m\u001b[0mread_html\u001b[0m\u001b[0;34m(\u001b[0m\u001b[0;34m'https://www.wantgoo.com/stock/astock/three?StockNo=2330&dtStart=2018/01/01&dtEnd=2018/02/01'\u001b[0m\u001b[0;34m)\u001b[0m\u001b[0;34m\u001b[0m\u001b[0m\n\u001b[0m",
      "\u001b[0;32m/usr/local/lib/python2.7/dist-packages/pandas/io/html.pyc\u001b[0m in \u001b[0;36mread_html\u001b[0;34m(io, match, flavor, header, index_col, skiprows, attrs, parse_dates, tupleize_cols, thousands, encoding)\u001b[0m\n\u001b[1;32m    864\u001b[0m     \u001b[0m_validate_header_arg\u001b[0m\u001b[0;34m(\u001b[0m\u001b[0mheader\u001b[0m\u001b[0;34m)\u001b[0m\u001b[0;34m\u001b[0m\u001b[0m\n\u001b[1;32m    865\u001b[0m     return _parse(flavor, io, match, header, index_col, skiprows,\n\u001b[0;32m--> 866\u001b[0;31m                   parse_dates, tupleize_cols, thousands, attrs, encoding)\n\u001b[0m",
      "\u001b[0;32m/usr/local/lib/python2.7/dist-packages/pandas/io/html.pyc\u001b[0m in \u001b[0;36m_parse\u001b[0;34m(flavor, io, match, header, index_col, skiprows, parse_dates, tupleize_cols, thousands, attrs, encoding)\u001b[0m\n\u001b[1;32m    716\u001b[0m     \u001b[0mretained\u001b[0m \u001b[0;34m=\u001b[0m \u001b[0mNone\u001b[0m\u001b[0;34m\u001b[0m\u001b[0m\n\u001b[1;32m    717\u001b[0m     \u001b[0;32mfor\u001b[0m \u001b[0mflav\u001b[0m \u001b[0;32min\u001b[0m \u001b[0mflavor\u001b[0m\u001b[0;34m:\u001b[0m\u001b[0;34m\u001b[0m\u001b[0m\n\u001b[0;32m--> 718\u001b[0;31m         \u001b[0mparser\u001b[0m \u001b[0;34m=\u001b[0m \u001b[0m_parser_dispatch\u001b[0m\u001b[0;34m(\u001b[0m\u001b[0mflav\u001b[0m\u001b[0;34m)\u001b[0m\u001b[0;34m\u001b[0m\u001b[0m\n\u001b[0m\u001b[1;32m    719\u001b[0m         \u001b[0mp\u001b[0m \u001b[0;34m=\u001b[0m \u001b[0mparser\u001b[0m\u001b[0;34m(\u001b[0m\u001b[0mio\u001b[0m\u001b[0;34m,\u001b[0m \u001b[0mcompiled_match\u001b[0m\u001b[0;34m,\u001b[0m \u001b[0mattrs\u001b[0m\u001b[0;34m,\u001b[0m \u001b[0mencoding\u001b[0m\u001b[0;34m)\u001b[0m\u001b[0;34m\u001b[0m\u001b[0m\n\u001b[1;32m    720\u001b[0m \u001b[0;34m\u001b[0m\u001b[0m\n",
      "\u001b[0;32m/usr/local/lib/python2.7/dist-packages/pandas/io/html.pyc\u001b[0m in \u001b[0;36m_parser_dispatch\u001b[0;34m(flavor)\u001b[0m\n\u001b[1;32m    661\u001b[0m     \u001b[0;32mif\u001b[0m \u001b[0mflavor\u001b[0m \u001b[0;32min\u001b[0m \u001b[0;34m(\u001b[0m\u001b[0;34m'bs4'\u001b[0m\u001b[0;34m,\u001b[0m \u001b[0;34m'html5lib'\u001b[0m\u001b[0;34m)\u001b[0m\u001b[0;34m:\u001b[0m\u001b[0;34m\u001b[0m\u001b[0m\n\u001b[1;32m    662\u001b[0m         \u001b[0;32mif\u001b[0m \u001b[0;32mnot\u001b[0m \u001b[0m_HAS_HTML5LIB\u001b[0m\u001b[0;34m:\u001b[0m\u001b[0;34m\u001b[0m\u001b[0m\n\u001b[0;32m--> 663\u001b[0;31m             \u001b[0;32mraise\u001b[0m \u001b[0mImportError\u001b[0m\u001b[0;34m(\u001b[0m\u001b[0;34m\"html5lib not found, please install it\"\u001b[0m\u001b[0;34m)\u001b[0m\u001b[0;34m\u001b[0m\u001b[0m\n\u001b[0m\u001b[1;32m    664\u001b[0m         \u001b[0;32mif\u001b[0m \u001b[0;32mnot\u001b[0m \u001b[0m_HAS_BS4\u001b[0m\u001b[0;34m:\u001b[0m\u001b[0;34m\u001b[0m\u001b[0m\n\u001b[1;32m    665\u001b[0m             \u001b[0;32mraise\u001b[0m \u001b[0mImportError\u001b[0m\u001b[0;34m(\u001b[0m\u001b[0;34m\"BeautifulSoup4 (bs4) not found, please install it\"\u001b[0m\u001b[0;34m)\u001b[0m\u001b[0;34m\u001b[0m\u001b[0m\n",
      "\u001b[0;31mImportError\u001b[0m: html5lib not found, please install it"
     ]
    }
   ],
   "source": []
  }
 ],
 "metadata": {
  "kernelspec": {
   "display_name": "Python 2",
   "language": "python",
   "name": "python2"
  },
  "language_info": {
   "codemirror_mode": {
    "name": "ipython",
    "version": 2
   },
   "file_extension": ".py",
   "mimetype": "text/x-python",
   "name": "python",
   "nbconvert_exporter": "python",
   "pygments_lexer": "ipython2",
   "version": "2.7.12"
  }
 },
 "nbformat": 4,
 "nbformat_minor": 1
}
