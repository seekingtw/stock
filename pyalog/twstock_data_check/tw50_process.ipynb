{
 "cells": [
  {
   "cell_type": "code",
   "execution_count": 1,
   "metadata": {
    "collapsed": true
   },
   "outputs": [],
   "source": [
    "import pandas as pd\n",
    "f = lambda x : x.strip()"
   ]
  },
  {
   "cell_type": "code",
   "execution_count": 2,
   "metadata": {
    "collapsed": false
   },
   "outputs": [
    {
     "name": "stdout",
     "output_type": "stream",
     "text": [
      "   name  weight\n",
      "0  台積電    31.57\n",
      "1   鴻海     9.82\n",
      "2  大立光     3.04\n",
      "3   台塑     2.73\n",
      "4  中華電     2.55\n",
      "Index([u'name', u'weight'], dtype='object')\n"
     ]
    }
   ],
   "source": [
    "tw50= pd.read_csv(\"tw50.csv\")\n",
    "print tw50.head()\n",
    "print tw50.columns\n",
    "tw50.name=tw50.name.apply(f)\n",
    "#print tw50"
   ]
  },
  {
   "cell_type": "code",
   "execution_count": 3,
   "metadata": {
    "collapsed": false,
    "scrolled": false
   },
   "outputs": [
    {
     "name": "stdout",
     "output_type": "stream",
     "text": [
      "         證期會代碼  公司簡稱  分類代碼  分類名稱\n",
      "count     8931  8931  8931  8931\n",
      "unique    8931  8931    31    31\n",
      "top     070086  永豐CS  0999  認購權證\n",
      "freq         1     1  6154  6154\n",
      "Index([u'證期會代碼', u'公司簡稱', u'分類代碼', u'分類名稱'], dtype='object')\n"
     ]
    }
   ],
   "source": [
    "twse=pd.read_csv('twse.csv')\n",
    "print twse.describe()\n",
    "print twse.columns"
   ]
  },
  {
   "cell_type": "code",
   "execution_count": 4,
   "metadata": {
    "collapsed": false,
    "scrolled": false
   },
   "outputs": [
    {
     "name": "stdout",
     "output_type": "stream",
     "text": [
      "公司簡稱\n",
      "{'tid': '\\xe5\\x88\\x86\\xe9\\xa1\\x9e\\xe4\\xbb\\xa3\\xe7\\xa2\\xbc', 'type': '\\xe5\\x88\\x86\\xe9\\xa1\\x9e\\xe5\\x90\\x8d\\xe7\\xa8\\xb1', 'name': '\\xe5\\x85\\xac\\xe5\\x8f\\xb8\\xe7\\xb0\\xa1\\xe7\\xa8\\xb1', 'sid': '\\xe8\\xad\\x89\\xe6\\x9c\\x9f\\xe6\\x9c\\x83\\xe4\\xbb\\xa3\\xe7\\xa2\\xbc'}\n"
     ]
    },
    {
     "data": {
      "text/plain": [
       "0    2013/12/18\n",
       "1            富邦\n",
       "2          台灣50\n",
       "3          中100\n",
       "4          FB科技\n",
       "Name: 公司簡稱, dtype: object"
      ]
     },
     "execution_count": 4,
     "metadata": {},
     "output_type": "execute_result"
    }
   ],
   "source": [
    "cols = twse.columns\n",
    "\n",
    "print cols[1]\n",
    "col_map= {'sid':cols[0], 'name':cols[1], 'tid':cols[2],'type':cols[3] }\n",
    "print col_map\n",
    "twse[col_map['name']] = twse[col_map['name']].apply(f)\n",
    "twse[col_map['name']].head()"
   ]
  },
  {
   "cell_type": "code",
   "execution_count": 5,
   "metadata": {
    "collapsed": false
   },
   "outputs": [
    {
     "name": "stdout",
     "output_type": "stream",
     "text": [
      "     證期會代碼 公司簡稱 分類代碼  分類名稱\n",
      "8328  2330  台積電   13  電子工業\n",
      "  name  weight    id\n",
      "0  台積電   31.57  2330\n",
      "     證期會代碼 公司簡稱 分類代碼   分類名稱\n",
      "8320  2317   鴻海   31  其他電子業\n"
     ]
    },
    {
     "name": "stderr",
     "output_type": "stream",
     "text": [
      "/usr/local/lib/python2.7/dist-packages/pandas/core/generic.py:2387: SettingWithCopyWarning: \n",
      "A value is trying to be set on a copy of a slice from a DataFrame.\n",
      "Try using .loc[row_indexer,col_indexer] = value instead\n",
      "\n",
      "See the caveats in the documentation: http://pandas.pydata.org/pandas-docs/stable/indexing.html#indexing-view-versus-copy\n",
      "  self[name] = value\n"
     ]
    },
    {
     "name": "stdout",
     "output_type": "stream",
     "text": [
      "  name  weight    id\n",
      "1   鴻海    9.82  2317\n",
      "     證期會代碼 公司簡稱 分類代碼  分類名稱\n",
      "8566  3008  大立光   13  電子工業\n",
      "  name  weight    id\n",
      "2  大立光    3.04  3008\n",
      "     證期會代碼 公司簡稱 分類代碼  分類名稱\n",
      "8095  1301   台塑   03  塑膠工業\n",
      "  name  weight    id\n",
      "3   台塑    2.73  1301\n",
      "     證期會代碼 公司簡稱 分類代碼  分類名稱\n",
      "8385  2412  中華電   13  電子工業\n",
      "  name  weight    id\n",
      "4  中華電    2.55  2412\n",
      "     證期會代碼 公司簡稱 分類代碼  分類名稱\n",
      "8096  1303   南亞   03  塑膠工業\n",
      "  name  weight    id\n",
      "5   南亞    2.54  1303\n",
      "     證期會代碼 公司簡稱 分類代碼  分類名稱\n",
      "8114  1326   台化   03  塑膠工業\n",
      "  name  weight    id\n",
      "6   台化    2.52  1326\n",
      "     證期會代碼 公司簡稱 分類代碼  分類名稱\n",
      "8538  2882  國泰金   17  金融保險\n",
      "  name  weight    id\n",
      "7  國泰金    2.36  2882\n",
      "     證期會代碼 公司簡稱 分類代碼  分類名稱\n",
      "8314  2308  台達電   13  電子工業\n",
      "  name  weight    id\n",
      "8  台達電     2.3  2308\n",
      "     證期會代碼 公司簡稱 分類代碼  分類名稱\n",
      "8418  2454  聯發科   13  電子工業\n",
      "  name  weight    id\n",
      "9  聯發科    2.21  2454\n",
      "     證期會代碼 公司簡稱 分類代碼  分類名稱\n",
      "8547  2891  中信金   17  金融保險\n",
      "   name  weight    id\n",
      "10  中信金    2.18  2891\n",
      "     證期會代碼 公司簡稱 分類代碼  分類名稱\n",
      "8537  2881  富邦金   17  金融保險\n",
      "   name  weight    id\n",
      "11  富邦金    2.08  2881\n",
      "     證期會代碼 公司簡稱 分類代碼  分類名稱\n",
      "8265  2002   中鋼   10  鋼鐵工業\n",
      "   name  weight    id\n",
      "12   中鋼    1.89  2002\n",
      "     證期會代碼 公司簡稱 分類代碼  分類名稱\n",
      "8081  1216   統一   02  食品工業\n",
      "   name  weight    id\n",
      "13   統一    1.79  1216\n",
      "     證期會代碼 公司簡稱 分類代碼  分類名稱\n",
      "8542  2886  兆豐金   17  金融保險\n",
      "   name  weight    id\n",
      "14  兆豐金    1.65  2886\n",
      "     證期會代碼 公司簡稱 分類代碼  分類名稱\n",
      "8315  2311  日月光   13  電子工業\n",
      "   name  weight    id\n",
      "15  日月光    1.57  2311\n",
      "     證期會代碼 公司簡稱 分類代碼   分類名稱\n",
      "8434  2474   可成   31  其他電子業\n",
      "   name  weight    id\n",
      "16   可成    1.56  2474\n",
      "     證期會代碼 公司簡稱 分類代碼  分類名稱\n",
      "8346  2357   華碩   13  電子工業\n",
      "   name  weight    id\n",
      "17   華碩    1.28  2357\n",
      "     證期會代碼 公司簡稱 分類代碼  分類名稱\n",
      "8548  2892  第一金   17  金融保險\n",
      "   name  weight    id\n",
      "18  第一金    1.14  2892\n",
      "     證期會代碼 公司簡稱 分類代碼  分類名稱\n",
      "8599  3045  台灣大   13  電子工業\n",
      "   name  weight    id\n",
      "19  台灣大    1.12  3045\n",
      "     證期會代碼 公司簡稱 分類代碼  分類名稱\n",
      "8724  4938   和碩   13  電子工業\n",
      "   name  weight    id\n",
      "20   和碩    1.12  4938\n",
      "     證期會代碼 公司簡稱 分類代碼  分類名稱\n",
      "8366  2382   廣達   13  電子工業\n",
      "   name  weight    id\n",
      "21   廣達    1.11  2382\n",
      "     證期會代碼 公司簡稱 分類代碼  分類名稱\n",
      "8540  2884  玉山金   17  金融保險\n",
      "   name  weight    id\n",
      "22  玉山金    1.02  2884\n",
      "     證期會代碼 公司簡稱 分類代碼  分類名稱\n",
      "8305  2207  和泰車   12  汽車工業\n",
      "   name  weight    id\n",
      "23  和泰車    0.99  2207\n",
      "     證期會代碼 公司簡稱 分類代碼  分類名稱\n",
      "8557  2912  統一超   18  貿易百貨\n",
      "   name  weight    id\n",
      "24  統一超    0.96  2912\n",
      "     證期會代碼 公司簡稱 分類代碼  分類名稱\n",
      "8541  2885  元大金   17  金融保險\n",
      "   name  weight    id\n",
      "25  元大金    0.95  2885\n",
      "     證期會代碼 公司簡稱 分類代碼   分類名稱\n",
      "8829  6505  台塑化   23  油電燃氣業\n",
      "   name  weight    id\n",
      "26  台塑化    0.95  6505\n",
      "     證期會代碼 公司簡稱 分類代碼  分類名稱\n",
      "8312  2303   聯電   13  電子工業\n",
      "   name  weight    id\n",
      "27   聯電    0.92  2303\n",
      "     證期會代碼 公司簡稱 分類代碼  分類名稱\n",
      "8536  2880  華南金   17  金融保險\n",
      "   name  weight    id\n",
      "28  華南金    0.84  2880\n",
      "     證期會代碼 公司簡稱 分類代碼  分類名稱\n",
      "8762  5880  合庫金   17  金融保險\n",
      "   name  weight    id\n",
      "29  合庫金    0.84  5880\n",
      "     證期會代碼 公司簡稱 分類代碼  分類名稱\n",
      "8543  2887  台新金   17  金融保險\n",
      "   name  weight    id\n",
      "30  台新金    0.77  2887\n",
      "     證期會代碼 公司簡稱 分類代碼  分類名稱\n",
      "8645  3481   群創   13  電子工業\n",
      "   name  weight    id\n",
      "31   群創    0.77  3481\n",
      "     證期會代碼 公司簡稱 分類代碼  分類名稱\n",
      "8716  4904   遠傳   13  電子工業\n",
      "   name  weight    id\n",
      "32   遠傳    0.76  4904\n",
      "     證期會代碼 公司簡稱 分類代碼  分類名稱\n",
      "8539  2883  開發金   17  金融保險\n",
      "   name  weight    id\n",
      "33  開發金    0.72  2883\n",
      "     證期會代碼 公司簡稱 分類代碼  分類名稱\n",
      "8297  2105   正新   11  橡膠工業\n",
      "   name  weight    id\n",
      "34   正新    0.71  2105\n",
      "     證期會代碼 公司簡稱 分類代碼  分類名稱\n",
      "8069  1101   台泥   01  水泥工業\n",
      "   name  weight    id\n",
      "35   台泥    0.69  1101\n",
      "     證期會代碼 公司簡稱 分類代碼  分類名稱\n",
      "8324  2325   矽品   13  電子工業\n",
      "   name  weight    id\n",
      "36   矽品    0.69  2325\n",
      "     證期會代碼 公司簡稱 分類代碼 分類名稱\n",
      "8895  9904   寶成   20   其他\n",
      "   name  weight    id\n",
      "37   寶成    0.69  9904\n",
      "     證期會代碼 公司簡稱 分類代碼  分類名稱\n",
      "8310  2301  光寶科   13  電子工業\n",
      "   name  weight    id\n",
      "38  光寶科    0.67  2301\n",
      "     證期會代碼 公司簡稱 分類代碼  分類名稱\n",
      "8384  2409   友達   13  電子工業\n",
      "   name  weight    id\n",
      "39   友達    0.66  2409\n",
      "     證期會代碼 公司簡稱 分類代碼  分類名稱\n",
      "8518  2823   中壽   17  金融保險\n",
      "   name  weight    id\n",
      "40   中壽    0.64  2823\n",
      "     證期會代碼 公司簡稱 分類代碼  分類名稱\n",
      "8118  1402  遠東新   04  紡織纖維\n",
      "   name  weight    id\n",
      "41  遠東新    0.61  1402\n",
      "     證期會代碼 公司簡稱 分類代碼  分類名稱\n",
      "8513  2801   彰銀   17  金融保險\n",
      "   name  weight    id\n",
      "42   彰銀    0.61  2801\n",
      "     證期會代碼 公司簡稱 分類代碼   分類名稱\n",
      "8343  2354   鴻準   31  其他電子業\n",
      "   name  weight    id\n",
      "43   鴻準     0.6  2354\n",
      "     證期會代碼 公司簡稱 分類代碼  分類名稱\n",
      "8546  2890  永豐金   17  金融保險\n",
      "   name  weight    id\n",
      "44  永豐金    0.57  2890\n",
      "     證期會代碼 公司簡稱 分類代碼  分類名稱\n",
      "8323  2324   仁寶   13  電子工業\n",
      "   name  weight    id\n",
      "45   仁寶    0.53  2324\n",
      "     證期會代碼 公司簡稱 分類代碼  分類名稱\n",
      "8375  2395   研華   13  電子工業\n",
      "   name  weight    id\n",
      "46   研華    0.52  2395\n",
      "     證期會代碼 公司簡稱 分類代碼  分類名稱\n",
      "8070  1102   亞泥   01  水泥工業\n",
      "   name  weight    id\n",
      "47   亞泥     0.4  1102\n",
      "     證期會代碼 公司簡稱 分類代碼  分類名稱\n",
      "8166  1476   儒鴻   04  紡織纖維\n",
      "   name  weight    id\n",
      "48   儒鴻     0.4  1476\n",
      "     證期會代碼 公司簡稱 分類代碼  分類名稱\n",
      "8383  2408  南亞科   13  電子工業\n",
      "   name  weight    id\n",
      "49  南亞科    0.25  2408\n"
     ]
    }
   ],
   "source": [
    "## the data contain space...\n",
    "\n",
    "tw50['id']=pd.Series()\n",
    "a=twse[twse[col_map['name']] == '4f4f4f4']\n",
    "new_tw50=pd.DataFrame()\n",
    "for each in tw50.name:\n",
    "    check_item=twse[twse[col_map['name']] == each]\n",
    "    print check_item\n",
    "    if 0 != len(check_item.index):\n",
    "        tw50_item = tw50[tw50.name == each ]\n",
    "        #print check_item['證期會代碼'].values\n",
    "        tw50_item.id =  check_item['證期會代碼'].values\n",
    "        print tw50_item\n",
    "        \n",
    "        # first new added\n",
    "        new_tw50=new_tw50.append(tw50_item)\n",
    "        # second\n",
    "        \n",
    "        #tw50.loc[,id] = value\n",
    "    #if twse[twse[col_map['name']] == each] != None: \n",
    "        #tw50[tw50.name == name ].id = twse[twse[col_map['name']]][col_map['sid']]\n"
   ]
  },
  {
   "cell_type": "code",
   "execution_count": 6,
   "metadata": {
    "collapsed": false
   },
   "outputs": [],
   "source": [
    "new_tw50.to_csv('tw50_with_id.csv')"
   ]
  }
 ],
 "metadata": {
  "kernelspec": {
   "display_name": "Python 2",
   "language": "python",
   "name": "python2"
  },
  "language_info": {
   "codemirror_mode": {
    "name": "ipython",
    "version": 2
   },
   "file_extension": ".py",
   "mimetype": "text/x-python",
   "name": "python",
   "nbconvert_exporter": "python",
   "pygments_lexer": "ipython2",
   "version": "2.7.12"
  }
 },
 "nbformat": 4,
 "nbformat_minor": 1
}
