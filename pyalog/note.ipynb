{
 "cells": [
  {
   "cell_type": "markdown",
   "metadata": {},
   "source": [
    "# target\n",
    "+ evaluate trading framework.\n",
    "+ pyalgotrade\n",
    "+ get stockdata"
   ]
  },
  {
   "cell_type": "markdown",
   "metadata": {},
   "source": [
    "# step\n",
    "+ [done]get stock data \n",
    "    + use grs....fail\n",
    "    + use stock but no csv output.\n",
    "        + add lib to tranlate to pandas and csv.\n",
    "+ evaluate ma/macd\n",
    "    + enhance stock db period.\n",
    "    + run data"
   ]
  },
  {
   "cell_type": "markdown",
   "metadata": {},
   "source": [
    "# notice\n",
    "+ twstock \n",
    "    + lack some function compared to grs. \n",
    "    + python3\n"
   ]
  }
 ],
 "metadata": {
  "kernelspec": {
   "display_name": "Python 3",
   "language": "python",
   "name": "python3"
  },
  "language_info": {
   "codemirror_mode": {
    "name": "ipython",
    "version": 3
   },
   "file_extension": ".py",
   "mimetype": "text/x-python",
   "name": "python",
   "nbconvert_exporter": "python",
   "pygments_lexer": "ipython3",
   "version": "3.5.2"
  }
 },
 "nbformat": 4,
 "nbformat_minor": 1
}
