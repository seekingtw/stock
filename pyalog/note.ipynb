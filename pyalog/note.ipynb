{
 "cells": [
  {
   "cell_type": "markdown",
   "metadata": {},
   "source": [
    "# target\n",
    "+ evaluate trading framework.\n",
    "+ pyalgotrade\n",
    "+ get stockdata"
   ]
  },
  {
   "cell_type": "markdown",
   "metadata": {},
   "source": [
    "# step\n",
    "+ get stock data \n",
    "    + [done]\n",
    "        + use grs....fail\n",
    "        + yahoo finance api not work now.\n",
    "        + twstock -function is not as much as grs\n",
    "            + lib for stock to tranlate to pandas and csv.\n",
    "    + [low]\n",
    "        + google finance ... not direct api\n",
    " \n",
    "+ evaluate ma/macd\n",
    "    + enhance stock db period.\n",
    "    + run data"
   ]
  },
  {
   "cell_type": "markdown",
   "metadata": {},
   "source": [
    "# notice\n",
    "+ twstock \n",
    "    + lack some function compared to grs. \n",
    "    + python3\n",
    "+ pyalgotrade\n",
    "    + python2"
   ]
  }
 ],
 "metadata": {
  "kernelspec": {
   "display_name": "Python 3",
   "language": "python",
   "name": "python3"
  },
  "language_info": {
   "codemirror_mode": {
    "name": "ipython",
    "version": 3
   },
   "file_extension": ".py",
   "mimetype": "text/x-python",
   "name": "python",
   "nbconvert_exporter": "python",
   "pygments_lexer": "ipython3",
   "version": "3.5.2"
  }
 },
 "nbformat": 4,
 "nbformat_minor": 1
}
