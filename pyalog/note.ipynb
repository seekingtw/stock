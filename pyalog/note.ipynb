{
 "cells": [
  {
   "cell_type": "markdown",
   "metadata": {},
   "source": [
    "# target\n",
    "+ evaluate trading framework.\n",
    "+ pyalgotrade\n",
    "+ get stockdata"
   ]
  },
  {
   "cell_type": "markdown",
   "metadata": {},
   "source": [
    "# step\n",
    "+ get stock data \n",
    "    + [done]\n",
    "        + [done]use grs....fail\n",
    "        + [del]yahoo finance api not work now.\n",
    "        + [done]twstock -function is not as much as grs\n",
    "            + [done]lib for stock to tranlate to pandas and csv.\n",
    "        + [done]google finance ... not direct api\n",
    "    + [todo ] fix twstock issue         \n",
    "\n",
    "\n",
    "\n",
    "+ pyalgotrade facility:\n",
    "    + [done] use local pyalgotrade rather than pip installed one.\n",
    "    + [check] cmd line interface for pyalgotrade\n",
    "        + start/end time\n",
    "        + strategy\n",
    "        + input option.\n",
    "        + output option\n",
    "    + [done] save result\n",
    "        + [todo] refine plot\n",
    "        + [todo ] add + for plot \n",
    "    + [check] performance factory\n",
    "        + 年化收益\n",
    "        + 基準年化收益\n",
    "        + ALPHA\n",
    "        + BETA\n",
    "        + SHARP RATE\n",
    "        + 收益波動\n",
    "        + 信息比率\n",
    "        + [done]max draw back\n",
    "        + 換手率\n",
    "    + [todo] add trade position on the issue day.\n",
    "    \n",
    "+ evaluate ma/macd using pyalgotrade\n",
    "    + [done] twstock data as google format.\n",
    "    + [done]pyalgotrade example\n",
    "    + [very log] build_feed ........ not way... becasuse twstock is not support python3....wtf\n",
    "    + enhance stock db period\n",
    "    + run data => reference what book say.\n",
    "        + tw50 check.\n",
    "    "
   ]
  },
  {
   "cell_type": "markdown",
   "metadata": {},
   "source": [
    "# reference\n",
    "+ 海龜 http://www.bituzi.com/2015/06/turtletrading.html"
   ]
  },
  {
   "cell_type": "markdown",
   "metadata": {},
   "source": [
    "# notice\n",
    "+ twstock \n",
    "    + lack some function compared to grs. \n",
    "    + python3\n",
    "+ pyalgotrade\n",
    "    + python2\n",
    "    + google finance have bug. "
   ]
  },
  {
   "cell_type": "markdown",
   "metadata": {},
   "source": [
    "# pyalgotrade\n",
    "## google finance [use newest one and it will ok]\n",
    "tools.\n",
    "def download_csv(instrument, begin, end):\n",
    "tools/googlefinance.py\n",
    "\n",
    "    '''###diasable origional \n",
    "    url = \"https://finance.google.com/finance/historical?q=aapl&startdate=2016/01/01&enddate=2016/12/31&output=csv\n",
    "    params = {\n",
    "        \"q\": instrument,\n",
    "        \"startdate\": begin.strftime(\"%Y-%m-%d\"),\n",
    "        \"enddate\": end.strftime(\"%Y-%m-%d\"),\n",
    "        \"startdate\": begin.strftime(\"%Y/%m/%d\"),\n",
    "        \"enddate\": end.strftime(\"%Y/%m/%d\"),\n",
    "        \"output\": \"csv\",\n",
    "    }\n",
    "    return csvutils.download_csv(url, url_params=params, content_type=\"application/vnd.ms-excel\")\n",
    "    '''###change to this\n",
    "    url = \"https://finance.google.com/finance/historical\"\n",
    "    params = {\n",
    "        \"q\": instrument,\n",
    "        \"startdate\": begin.strftime(\"%Y/%m/%d\"),\n",
    "        \"enddate\": end.strftime(\"%Y/%m/%d\"),\n",
    "        \"output\": \"csv\",\n",
    "    }\n",
    "    #url += \"?q=\"+instrument+\"&startdate=\"+begin.strftime(\"%Y/%m/%d\")+\"&enddate=\"+end.strftime(\"%Y/%m/%d\")+\"&output\"\n",
    "    first_mark = True\n",
    "    for each in params:\n",
    "        param_str=each+\"=\"+str(params[each])\n",
    "        if (first_mark):\n",
    "            url+=\"?\"\n",
    "            first_mark=False\n",
    "        else:\n",
    "            url+=\"&\"\n",
    "        url+=param_str\n",
    "    print url\n",
    "    return csvutils.download_csv(url,content_type=\"application/vnd.ms-excel\")\n",
    "    \n",
    "## csv....\n",
    " bar.py\n",
    "    #disable following...\n",
    "         elif high < open_:\n",
    "           raise Exception(\"high < open on %s\" % (dateTime))\n",
    "    \n",
    "    \n",
    "tools.\n",
    "\n",
    "## [todo]the position don't execute on the issue day. \n"
   ]
  }
 ],
 "metadata": {
  "kernelspec": {
   "display_name": "Python 2",
   "language": "python",
   "name": "python2"
  },
  "language_info": {
   "codemirror_mode": {
    "name": "ipython",
    "version": 2
   },
   "file_extension": ".py",
   "mimetype": "text/x-python",
   "name": "python",
   "nbconvert_exporter": "python",
   "pygments_lexer": "ipython2",
   "version": "2.7.12"
  }
 },
 "nbformat": 4,
 "nbformat_minor": 0
}
